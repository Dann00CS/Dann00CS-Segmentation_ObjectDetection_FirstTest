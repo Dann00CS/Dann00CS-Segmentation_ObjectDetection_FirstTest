{
 "cells": [
  {
   "attachments": {},
   "cell_type": "markdown",
   "metadata": {},
   "source": [
    "## Notebook to get segmentation mask from some coco-validation-2017 images. \n",
    "### The code in this notebook is only for images with dogs and cats labels (cat_ids = [17 (cats), 18 (dogs)]) using COCO dataset."
   ]
  },
  {
   "cell_type": "code",
   "execution_count": 107,
   "metadata": {},
   "outputs": [],
   "source": [
    "import pandas as pd\n",
    "import numpy as np\n",
    "import torch\n",
    "import torchvision.transforms as T\n",
    "from PIL import Image\n",
    "from pycocotools.coco import COCO\n",
    "import os\n",
    "import json\n",
    "import pickle\n",
    "import shutil\n",
    "import matplotlib.pyplot as plt\n",
    "%matplotlib inline"
   ]
  },
  {
   "attachments": {},
   "cell_type": "markdown",
   "metadata": {},
   "source": [
    "# Dog and cat categories"
   ]
  },
  {
   "cell_type": "code",
   "execution_count": 112,
   "metadata": {},
   "outputs": [
    {
     "name": "stdout",
     "output_type": "stream",
     "text": [
      "loading annotations into memory...\n",
      "Done (t=1.49s)\n",
      "creating index...\n",
      "index created!\n"
     ]
    }
   ],
   "source": [
    "categories_dict = {\"cat\": 17, \"dog\": 18} \n",
    "coco = COCO('raw/instances_val2017.json')\n",
    "img_dir = 'train_100dogs_100cats_100nocatsnodogs/images'"
   ]
  },
  {
   "cell_type": "code",
   "execution_count": 99,
   "metadata": {},
   "outputs": [],
   "source": [
    "# Function to get some dogs and cats images, individually, with its masks\n",
    "label_cat_l = []\n",
    "for cat_name, cat_id in categories_dict.items():\n",
    "    labels = json.load(open('train_100dogs_100cats_100nocatsnodogs/labels_'+cat_name+'.json'))\n",
    "    val_images_df = pd.DataFrame(labels['images'])\n",
    "    for _ , val_img in val_images_df.iterrows():\n",
    "        img_id = val_img['id']\n",
    "        val_ann_df = pd.DataFrame([l for l in labels['annotations'] if l['image_id'] == img_id])\n",
    "        if not (17 in val_ann_df['category_id'].unique() and 18 in val_ann_df['category_id'].unique()):\n",
    "            img = np.array(Image.open(os.path.join(img_dir, val_img['file_name'])))\n",
    "            cat_ids = coco.getCatIds()\n",
    "            anns_ids = coco.getAnnIds(imgIds=img_id, catIds=[cat_id], iscrowd=None)\n",
    "            anns = coco.loadAnns(anns_ids)\n",
    "            # coco.showAnns(anns)\n",
    "            if len(anns)>0:\n",
    "                mask = coco.annToMask(anns[0]) * 0.0\n",
    "                for i in range(len(anns)):\n",
    "                    mask += coco.annToMask(anns[i]) #* (i+1) #Comentamos esto porque vamos segmentar las imagenes en cada una de las dos clases de forma individual.\n",
    "                mask[mask==2.0] = 0.0\n",
    "\n",
    "                # fig, ax =  plt.subplots(1, 3, figsize=(10,4))\n",
    "                # fig.suptitle('Image: ' + str(img_id) + ' # of cats/dogs: ' + str(len(anns)), y=0.8)\n",
    "                # ax[0].imshow(img)\n",
    "                # ax[1].imshow(mask)\n",
    "                # ax[2].imshow(img)\n",
    "                # ax[2].imshow(mask, alpha=0.4)\n",
    "                # plt.show()\n",
    "                label_cat_l.append({\"image_id\": img_id, \n",
    "                                        \"image_path\": val_img['file_name'].split(\".\")[0]+'.jpg',\n",
    "                                        \"mask_image_path\": val_img['file_name'].split(\".\")[0]+'_mask.pkl',\n",
    "                                        \"label\": cat_name,\n",
    "                                        \"num_elements_of_label_category\": len(anns)})\n",
    "                if not os.path.isfile('train/masks/'+val_img['file_name'].split(\".\")[0]+'_mask.pkl'):\n",
    "                    with open('train/masks/'+val_img['file_name'].split(\".\")[0]+'_mask.pkl', 'wb') as f:\n",
    "                        pickle.dump(mask, f)\n",
    "                label_cat_df = pd.DataFrame(label_cat_l)\n",
    "                if label_cat_df[label_cat_df['label']==cat_name].shape[0]==100:\n",
    "                    break\n",
    "    label_cat_df.to_csv('train/train_for_OutSegmentationModelTest.csv', index=False)\n"
   ]
  },
  {
   "cell_type": "code",
   "execution_count": 115,
   "metadata": {},
   "outputs": [
    {
     "data": {
      "text/html": [
       "<div>\n",
       "<style scoped>\n",
       "    .dataframe tbody tr th:only-of-type {\n",
       "        vertical-align: middle;\n",
       "    }\n",
       "\n",
       "    .dataframe tbody tr th {\n",
       "        vertical-align: top;\n",
       "    }\n",
       "\n",
       "    .dataframe thead th {\n",
       "        text-align: right;\n",
       "    }\n",
       "</style>\n",
       "<table border=\"1\" class=\"dataframe\">\n",
       "  <thead>\n",
       "    <tr style=\"text-align: right;\">\n",
       "      <th></th>\n",
       "      <th>image_id</th>\n",
       "      <th>image_path</th>\n",
       "      <th>mask_image_path</th>\n",
       "      <th>label</th>\n",
       "      <th>num_elements_of_label_category</th>\n",
       "    </tr>\n",
       "  </thead>\n",
       "  <tbody>\n",
       "    <tr>\n",
       "      <th>0</th>\n",
       "      <td>443303</td>\n",
       "      <td>000000443303.jpg</td>\n",
       "      <td>000000443303_mask.pkl</td>\n",
       "      <td>cat</td>\n",
       "      <td>1</td>\n",
       "    </tr>\n",
       "    <tr>\n",
       "      <th>1</th>\n",
       "      <td>25560</td>\n",
       "      <td>000000025560.jpg</td>\n",
       "      <td>000000025560_mask.pkl</td>\n",
       "      <td>cat</td>\n",
       "      <td>1</td>\n",
       "    </tr>\n",
       "    <tr>\n",
       "      <th>2</th>\n",
       "      <td>403817</td>\n",
       "      <td>000000403817.jpg</td>\n",
       "      <td>000000403817_mask.pkl</td>\n",
       "      <td>cat</td>\n",
       "      <td>1</td>\n",
       "    </tr>\n",
       "    <tr>\n",
       "      <th>3</th>\n",
       "      <td>366141</td>\n",
       "      <td>000000366141.jpg</td>\n",
       "      <td>000000366141_mask.pkl</td>\n",
       "      <td>cat</td>\n",
       "      <td>1</td>\n",
       "    </tr>\n",
       "    <tr>\n",
       "      <th>4</th>\n",
       "      <td>166277</td>\n",
       "      <td>000000166277.jpg</td>\n",
       "      <td>000000166277_mask.pkl</td>\n",
       "      <td>cat</td>\n",
       "      <td>1</td>\n",
       "    </tr>\n",
       "  </tbody>\n",
       "</table>\n",
       "</div>"
      ],
      "text/plain": [
       "   image_id        image_path        mask_image_path label  \\\n",
       "0    443303  000000443303.jpg  000000443303_mask.pkl   cat   \n",
       "1     25560  000000025560.jpg  000000025560_mask.pkl   cat   \n",
       "2    403817  000000403817.jpg  000000403817_mask.pkl   cat   \n",
       "3    366141  000000366141.jpg  000000366141_mask.pkl   cat   \n",
       "4    166277  000000166277.jpg  000000166277_mask.pkl   cat   \n",
       "\n",
       "   num_elements_of_label_category  \n",
       "0                               1  \n",
       "1                               1  \n",
       "2                               1  \n",
       "3                               1  \n",
       "4                               1  "
      ]
     },
     "execution_count": 115,
     "metadata": {},
     "output_type": "execute_result"
    }
   ],
   "source": [
    "train_df = pd.read_csv('train_100dogs_100cats_100nocatsnodogs/train_for_OutSegmentationModelTest.csv')\n",
    "train_df.head()"
   ]
  },
  {
   "cell_type": "code",
   "execution_count": 108,
   "metadata": {},
   "outputs": [],
   "source": [
    "for img_filename in os.listdir(os.path.join('train_100dogs_100cats_100nocatsnodogs', 'images')):\n",
    "    if train_df[train_df['image_path']==img_filename].shape[0]==0:\n",
    "        src_path = os.path.join('train_100dogs_100cats_100nocatsnodogs', 'images', img_filename)\n",
    "        dst_path = os.path.join('test', 'images', img_filename)\n",
    "        shutil.move(src_path, dst_path)"
   ]
  },
  {
   "attachments": {},
   "cell_type": "markdown",
   "metadata": {},
   "source": [
    "# Categories that are neither cat nor dog \n",
    "### (I have randomly chosen: person, horse, bird, zebra and cow)"
   ]
  },
  {
   "cell_type": "code",
   "execution_count": 154,
   "metadata": {},
   "outputs": [],
   "source": [
    "# Function to get some images where cats and dogs can not be found.\n",
    "categories_notcatnotdog_dict = {\"person\":1, \"horse\": 19, \"bird\": 16, \"zebra\": 24, \"cow\": 21}\n",
    "label_cat_l = []\n",
    "for cat_name, cat_id in categories_notcatnotdog_dict.items():\n",
    "    labels = json.load(open('train_100dogs_100cats_100nocatsnodogs/labels_'+cat_name+'.json'))\n",
    "    val_images_df = pd.DataFrame(labels['images'])\n",
    "    for _ , val_img in val_images_df.iterrows():\n",
    "        img_id = val_img['id']\n",
    "        val_ann_df = pd.DataFrame([l for l in labels['annotations'] if l['image_id'] == img_id])\n",
    "        if not (17 in val_ann_df['category_id'].unique() or 18 in val_ann_df['category_id'].unique()):\n",
    "            img = np.array(Image.open(os.path.join(img_dir, val_img['file_name'])))\n",
    "            cat_ids = coco.getCatIds()\n",
    "            anns_ids = coco.getAnnIds(imgIds=img_id, catIds=[cat_id], iscrowd=None)\n",
    "            anns = coco.loadAnns(anns_ids)\n",
    "            # coco.showAnns(anns)\n",
    "            if len(anns)>0:\n",
    "                mask = coco.annToMask(anns[0]) * 0.0\n",
    "                # for i in range(len(anns)):\n",
    "                #     mask += coco.annToMask(anns[i]) #* (i+1) #Comentamos esto porque vamos segmentar las imagenes en cada una de las dos clases de forma individual.\n",
    "                # mask[mask==2.0] = 0.0\n",
    "\n",
    "                # fig, ax =  plt.subplots(1, 3, figsize=(10,4))\n",
    "                # fig.suptitle('Image: ' + str(img_id) + ' # of cats/dogs: ' + str(len(anns)), y=0.8)\n",
    "                # ax[0].imshow(img)\n",
    "                # ax[1].imshow(mask)\n",
    "                # ax[2].imshow(img)\n",
    "                # ax[2].imshow(mask, alpha=0.4)\n",
    "                # plt.show()\n",
    "\n",
    "                if not os.path.isfile('train_100dogs_100cats_100nocatsnodogs/masks_nocat_nodog/'+val_img['file_name'].split(\".\")[0]+'_mask.pkl'):\n",
    "                    label_cat_l.append({\"image_id\": img_id, \n",
    "                        \"image_path\": val_img['file_name'].split(\".\")[0]+'.jpg',\n",
    "                        \"mask_image_path\": val_img['file_name'].split(\".\")[0]+'_mask.pkl',\n",
    "                        \"label\": cat_name,\n",
    "                        \"num_elements_of_label_category\": len(anns)})\n",
    "                    label_cat_df = pd.DataFrame(label_cat_l)\n",
    "                    with open('train_100dogs_100cats_100nocatsnodogs/masks_nocat_nodog/'+val_img['file_name'].split(\".\")[0]+'_mask.pkl', 'wb') as f:\n",
    "                        pickle.dump(mask, f)\n",
    "                    \n",
    "                if label_cat_df[label_cat_df['label']==cat_name].shape[0]==20:\n",
    "                    break          \n",
    "    label_cat_df.to_csv('train_100dogs_100cats_100nocatsnodogs/train_for_OutSegmentationModelTest_nocatnodog.csv', index=False)"
   ]
  },
  {
   "attachments": {},
   "cell_type": "markdown",
   "metadata": {},
   "source": [
    "# Join both imags from the 3 categories (cats, dogs and nocats_nodogs)"
   ]
  },
  {
   "cell_type": "code",
   "execution_count": 159,
   "metadata": {},
   "outputs": [
    {
     "data": {
      "text/plain": [
       "(300, 5)"
      ]
     },
     "execution_count": 159,
     "metadata": {},
     "output_type": "execute_result"
    }
   ],
   "source": [
    "train_nocats_df = pd.read_csv('train_100dogs_100cats_100nocatsnodogs/train_for_OutSegmentationModelTest_nocatnodog.csv')\n",
    "# train_nocats_df.head()\n",
    "train_df = pd.read_csv('train_100dogs_100cats_100nocatsnodogs/train_for_OutSegmentationModelTest_catdog.csv')\n",
    "train_df = pd.concat([train_df, train_nocats_df])\n",
    "train_df.shape\n"
   ]
  },
  {
   "cell_type": "code",
   "execution_count": 160,
   "metadata": {},
   "outputs": [],
   "source": [
    "for img_filename in os.listdir(os.path.join('train_100dogs_100cats_100nocatsnodogs', 'images')):\n",
    "    if train_df[train_df['image_path']==img_filename].shape[0]==0:\n",
    "        src_path = os.path.join('train_100dogs_100cats_100nocatsnodogs', 'images', img_filename)\n",
    "        dst_path = os.path.join('test', 'images', img_filename)\n",
    "        shutil.move(src_path, dst_path)"
   ]
  },
  {
   "cell_type": "code",
   "execution_count": 162,
   "metadata": {},
   "outputs": [],
   "source": [
    "train_df.to_csv('train_100dogs_100cats_100nocatsnodogs/train_for_OutSegmentationModelTest.csv', index=False)"
   ]
  }
 ],
 "metadata": {
  "kernelspec": {
   "display_name": "segmentation_coco_env",
   "language": "python",
   "name": "python3"
  },
  "language_info": {
   "codemirror_mode": {
    "name": "ipython",
    "version": 3
   },
   "file_extension": ".py",
   "mimetype": "text/x-python",
   "name": "python",
   "nbconvert_exporter": "python",
   "pygments_lexer": "ipython3",
   "version": "3.10.9"
  },
  "orig_nbformat": 4,
  "vscode": {
   "interpreter": {
    "hash": "db433fb8822fe85f9ab22522d5ba9d3d0b593e4f9de8db231890c9bbba3dc37f"
   }
  }
 },
 "nbformat": 4,
 "nbformat_minor": 2
}
