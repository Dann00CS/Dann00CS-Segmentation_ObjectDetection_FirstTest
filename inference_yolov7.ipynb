{
 "cells": [
  {
   "cell_type": "code",
   "execution_count": 10,
   "metadata": {},
   "outputs": [
    {
     "name": "stdout",
     "output_type": "stream",
     "text": [
      "Namespace(weights=['yolov7/yolov7.pt'], source='yolov7/inference/images/horses.jpg', img_size=640, conf_thres=0.25, iou_thres=0.45, device='', view_img=False, save_txt=True, save_conf=False, nosave=False, classes=None, agnostic_nms=False, augment=False, update=False, project='data/PRUEBA_PROYECTO', name='PRUEBA_NAME', exist_ok=False, no_trace=False)\n",
      "Fusing layers... \n",
      "RepConv.fuse_repvgg_block\n",
      "RepConv.fuse_repvgg_block\n",
      "RepConv.fuse_repvgg_block\n",
      " Convert model to Traced-model... \n",
      " traced_script_module saved! \n",
      " model is traced! \n",
      "\n",
      "path:  h:\\Documentos\\Code\\ML_BasicNets_Tutorials\\Segmentation_ObjectDetection\\yolov7\\inference\\images\\horses.jpg True\n",
      "5 horses, Done. (84.0ms) Inference, (7.0ms) NMS\n",
      " The image with the result is saved in: data\\PRUEBA_PROYECTO\\PRUEBA_NAME2\\horses.jpg\n",
      "Done. (0.428s)\n"
     ]
    },
    {
     "name": "stderr",
     "output_type": "stream",
     "text": [
      "YOLOR  786d103 torch 1.8.0 CUDA:0 (NVIDIA GeForce GTX 1060, 3071.8125MB)\n",
      "\n",
      "Model Summary: 306 layers, 36905341 parameters, 6652669 gradients, 104.5 GFLOPS\n"
     ]
    }
   ],
   "source": [
    "!python yolov7/detect.py --weights yolov7/yolov7.pt --conf 0.25 --img-size 640 --source yolov7/inference/images/horses.jpg --project data/PRUEBA_PROYECTO --name PRUEBA_NAME --save-txt"
   ]
  },
  {
   "cell_type": "code",
   "execution_count": 5,
   "metadata": {},
   "outputs": [
    {
     "name": "stdout",
     "output_type": "stream",
     "text": [
      "usage: detect.py [-h] [--weights WEIGHTS [WEIGHTS ...]] [--source SOURCE]\n",
      "                 [--img-size IMG_SIZE] [--conf-thres CONF_THRES]\n",
      "                 [--iou-thres IOU_THRES] [--device DEVICE] [--view-img]\n",
      "                 [--save-txt] [--save-conf] [--nosave]\n",
      "                 [--classes CLASSES [CLASSES ...]] [--agnostic-nms]\n",
      "                 [--augment] [--update] [--project PROJECT] [--name NAME]\n",
      "                 [--exist-ok] [--no-trace]\n",
      "\n",
      "optional arguments:\n",
      "  -h, --help            show this help message and exit\n",
      "  --weights WEIGHTS [WEIGHTS ...]\n",
      "                        model.pt path(s)\n",
      "  --source SOURCE       source\n",
      "  --img-size IMG_SIZE   inference size (pixels)\n",
      "  --conf-thres CONF_THRES\n",
      "                        object confidence threshold\n",
      "  --iou-thres IOU_THRES\n",
      "                        IOU threshold for NMS\n",
      "  --device DEVICE       cuda device, i.e. 0 or 0,1,2,3 or cpu\n",
      "  --view-img            display results\n",
      "  --save-txt            save results to *.txt\n",
      "  --save-conf           save confidences in --save-txt labels\n",
      "  --nosave              do not save images/videos\n",
      "  --classes CLASSES [CLASSES ...]\n",
      "                        filter by class: --class 0, or --class 0 2 3\n",
      "  --agnostic-nms        class-agnostic NMS\n",
      "  --augment             augmented inference\n",
      "  --update              update all models\n",
      "  --project PROJECT     save results to project/name\n",
      "  --name NAME           save results to project/name\n",
      "  --exist-ok            existing project/name ok, do not increment\n",
      "  --no-trace            don`t trace model\n"
     ]
    }
   ],
   "source": [
    "!python yolov7/detect.py --help"
   ]
  },
  {
   "cell_type": "code",
   "execution_count": 3,
   "metadata": {},
   "outputs": [
    {
     "data": {
      "text/plain": [
       "False"
      ]
     },
     "execution_count": 3,
     "metadata": {},
     "output_type": "execute_result"
    }
   ],
   "source": [
    "import os\n",
    "os.path.isfile('H:\\Documentos\\Code\\ML_BasicNets_Tutorials\\Segmentation_ObjectDetection\\yolo7\\inference\\images\\horses.jpg')\n",
    "            #    'H:\\Documentos\\Code\\ML_BasicNets_Tutorials\\Segmentation_ObjectDetection\\yolov7\\inference\\images'"
   ]
  }
 ],
 "metadata": {
  "kernelspec": {
   "display_name": "yolov7_env",
   "language": "python",
   "name": "python3"
  },
  "language_info": {
   "codemirror_mode": {
    "name": "ipython",
    "version": 3
   },
   "file_extension": ".py",
   "mimetype": "text/x-python",
   "name": "python",
   "nbconvert_exporter": "python",
   "pygments_lexer": "ipython3",
   "version": "3.9.16"
  },
  "orig_nbformat": 4,
  "vscode": {
   "interpreter": {
    "hash": "ecc28f8278df40c471fd630abbe1cb9b5dd81a5d2ce1992b663ca45e09ef1caf"
   }
  }
 },
 "nbformat": 4,
 "nbformat_minor": 2
}
